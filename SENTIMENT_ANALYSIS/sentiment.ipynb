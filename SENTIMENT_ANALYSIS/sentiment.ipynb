{
  "cells": [
    {
      "cell_type": "code",
      "execution_count": 1,
      "id": "611c3de4",
      "metadata": {
        "colab": {
          "base_uri": "https://localhost:8080/",
          "height": 242
        },
        "id": "611c3de4",
        "outputId": "eaf55161-a1ba-4507-c8e9-6efbc1263c60"
      },
      "outputs": [
        {
          "output_type": "stream",
          "name": "stderr",
          "text": [
            "[nltk_data] Downloading package stopwords to /root/nltk_data...\n",
            "[nltk_data]   Package stopwords is already up-to-date!\n"
          ]
        },
        {
          "output_type": "execute_result",
          "data": {
            "text/plain": [
              "   Unnamed: 0                                             review  polarity  \\\n",
              "0        3870                            able play youtube alexa    0.5000   \n",
              "1          62  able recognize indian accent really well drop ...    0.2794   \n",
              "2         487  absolute smart device amazon connect external ...    0.1827   \n",
              "3        3204  absolutely amaze new member family control hom...    0.3682   \n",
              "4        1265  absolutely amaze previously sceptical invest m...    0.2333   \n",
              "\n",
              "   division  \n",
              "0  positive  \n",
              "1  positive  \n",
              "2  positive  \n",
              "3  positive  \n",
              "4  positive  "
            ],
            "text/html": [
              "\n",
              "  <div id=\"df-22f3e171-f0dc-46ac-bb10-d1dde90cf841\">\n",
              "    <div class=\"colab-df-container\">\n",
              "      <div>\n",
              "<style scoped>\n",
              "    .dataframe tbody tr th:only-of-type {\n",
              "        vertical-align: middle;\n",
              "    }\n",
              "\n",
              "    .dataframe tbody tr th {\n",
              "        vertical-align: top;\n",
              "    }\n",
              "\n",
              "    .dataframe thead th {\n",
              "        text-align: right;\n",
              "    }\n",
              "</style>\n",
              "<table border=\"1\" class=\"dataframe\">\n",
              "  <thead>\n",
              "    <tr style=\"text-align: right;\">\n",
              "      <th></th>\n",
              "      <th>Unnamed: 0</th>\n",
              "      <th>review</th>\n",
              "      <th>polarity</th>\n",
              "      <th>division</th>\n",
              "    </tr>\n",
              "  </thead>\n",
              "  <tbody>\n",
              "    <tr>\n",
              "      <th>0</th>\n",
              "      <td>3870</td>\n",
              "      <td>able play youtube alexa</td>\n",
              "      <td>0.5000</td>\n",
              "      <td>positive</td>\n",
              "    </tr>\n",
              "    <tr>\n",
              "      <th>1</th>\n",
              "      <td>62</td>\n",
              "      <td>able recognize indian accent really well drop ...</td>\n",
              "      <td>0.2794</td>\n",
              "      <td>positive</td>\n",
              "    </tr>\n",
              "    <tr>\n",
              "      <th>2</th>\n",
              "      <td>487</td>\n",
              "      <td>absolute smart device amazon connect external ...</td>\n",
              "      <td>0.1827</td>\n",
              "      <td>positive</td>\n",
              "    </tr>\n",
              "    <tr>\n",
              "      <th>3</th>\n",
              "      <td>3204</td>\n",
              "      <td>absolutely amaze new member family control hom...</td>\n",
              "      <td>0.3682</td>\n",
              "      <td>positive</td>\n",
              "    </tr>\n",
              "    <tr>\n",
              "      <th>4</th>\n",
              "      <td>1265</td>\n",
              "      <td>absolutely amaze previously sceptical invest m...</td>\n",
              "      <td>0.2333</td>\n",
              "      <td>positive</td>\n",
              "    </tr>\n",
              "  </tbody>\n",
              "</table>\n",
              "</div>\n",
              "      <button class=\"colab-df-convert\" onclick=\"convertToInteractive('df-22f3e171-f0dc-46ac-bb10-d1dde90cf841')\"\n",
              "              title=\"Convert this dataframe to an interactive table.\"\n",
              "              style=\"display:none;\">\n",
              "        \n",
              "  <svg xmlns=\"http://www.w3.org/2000/svg\" height=\"24px\"viewBox=\"0 0 24 24\"\n",
              "       width=\"24px\">\n",
              "    <path d=\"M0 0h24v24H0V0z\" fill=\"none\"/>\n",
              "    <path d=\"M18.56 5.44l.94 2.06.94-2.06 2.06-.94-2.06-.94-.94-2.06-.94 2.06-2.06.94zm-11 1L8.5 8.5l.94-2.06 2.06-.94-2.06-.94L8.5 2.5l-.94 2.06-2.06.94zm10 10l.94 2.06.94-2.06 2.06-.94-2.06-.94-.94-2.06-.94 2.06-2.06.94z\"/><path d=\"M17.41 7.96l-1.37-1.37c-.4-.4-.92-.59-1.43-.59-.52 0-1.04.2-1.43.59L10.3 9.45l-7.72 7.72c-.78.78-.78 2.05 0 2.83L4 21.41c.39.39.9.59 1.41.59.51 0 1.02-.2 1.41-.59l7.78-7.78 2.81-2.81c.8-.78.8-2.07 0-2.86zM5.41 20L4 18.59l7.72-7.72 1.47 1.35L5.41 20z\"/>\n",
              "  </svg>\n",
              "      </button>\n",
              "      \n",
              "  <style>\n",
              "    .colab-df-container {\n",
              "      display:flex;\n",
              "      flex-wrap:wrap;\n",
              "      gap: 12px;\n",
              "    }\n",
              "\n",
              "    .colab-df-convert {\n",
              "      background-color: #E8F0FE;\n",
              "      border: none;\n",
              "      border-radius: 50%;\n",
              "      cursor: pointer;\n",
              "      display: none;\n",
              "      fill: #1967D2;\n",
              "      height: 32px;\n",
              "      padding: 0 0 0 0;\n",
              "      width: 32px;\n",
              "    }\n",
              "\n",
              "    .colab-df-convert:hover {\n",
              "      background-color: #E2EBFA;\n",
              "      box-shadow: 0px 1px 2px rgba(60, 64, 67, 0.3), 0px 1px 3px 1px rgba(60, 64, 67, 0.15);\n",
              "      fill: #174EA6;\n",
              "    }\n",
              "\n",
              "    [theme=dark] .colab-df-convert {\n",
              "      background-color: #3B4455;\n",
              "      fill: #D2E3FC;\n",
              "    }\n",
              "\n",
              "    [theme=dark] .colab-df-convert:hover {\n",
              "      background-color: #434B5C;\n",
              "      box-shadow: 0px 1px 3px 1px rgba(0, 0, 0, 0.15);\n",
              "      filter: drop-shadow(0px 1px 2px rgba(0, 0, 0, 0.3));\n",
              "      fill: #FFFFFF;\n",
              "    }\n",
              "  </style>\n",
              "\n",
              "      <script>\n",
              "        const buttonEl =\n",
              "          document.querySelector('#df-22f3e171-f0dc-46ac-bb10-d1dde90cf841 button.colab-df-convert');\n",
              "        buttonEl.style.display =\n",
              "          google.colab.kernel.accessAllowed ? 'block' : 'none';\n",
              "\n",
              "        async function convertToInteractive(key) {\n",
              "          const element = document.querySelector('#df-22f3e171-f0dc-46ac-bb10-d1dde90cf841');\n",
              "          const dataTable =\n",
              "            await google.colab.kernel.invokeFunction('convertToInteractive',\n",
              "                                                     [key], {});\n",
              "          if (!dataTable) return;\n",
              "\n",
              "          const docLinkHtml = 'Like what you see? Visit the ' +\n",
              "            '<a target=\"_blank\" href=https://colab.research.google.com/notebooks/data_table.ipynb>data table notebook</a>'\n",
              "            + ' to learn more about interactive tables.';\n",
              "          element.innerHTML = '';\n",
              "          dataTable['output_type'] = 'display_data';\n",
              "          await google.colab.output.renderOutput(dataTable, element);\n",
              "          const docLink = document.createElement('div');\n",
              "          docLink.innerHTML = docLinkHtml;\n",
              "          element.appendChild(docLink);\n",
              "        }\n",
              "      </script>\n",
              "    </div>\n",
              "  </div>\n",
              "  "
            ]
          },
          "metadata": {},
          "execution_count": 1
        }
      ],
      "source": [
        "import pandas as pd\n",
        "import nltk\n",
        "from nltk.corpus import stopwords\n",
        "from sklearn.feature_extraction.text import CountVectorizer\n",
        "from sklearn.model_selection import train_test_split\n",
        "from sklearn.naive_bayes import MultinomialNB\n",
        "from sklearn.metrics import classification_report\n",
        "import seaborn as sns\n",
        "from sklearn.metrics import accuracy_score\n",
        "from sklearn.metrics import confusion_matrix\n",
        "\n",
        "# Download NLTK stopwords\n",
        "nltk.download('stopwords')\n",
        "\n",
        "# Load the Twitter sentiment dataset\n",
        "data = pd.read_csv('EcoPreprocessed.csv')\n",
        "data.head()"
      ]
    },
    {
      "cell_type": "code",
      "execution_count": 2,
      "id": "7185d800",
      "metadata": {
        "colab": {
          "base_uri": "https://localhost:8080/",
          "height": 206
        },
        "id": "7185d800",
        "outputId": "b13176ba-65d5-4540-fd0f-7f6c7971defe"
      },
      "outputs": [
        {
          "output_type": "execute_result",
          "data": {
            "text/plain": [
              "                                                text sentiment\n",
              "0                            able play youtube alexa  positive\n",
              "1  able recognize indian accent really well drop ...  positive\n",
              "2  absolute smart device amazon connect external ...  positive\n",
              "3  absolutely amaze new member family control hom...  positive\n",
              "4  absolutely amaze previously sceptical invest m...  positive"
            ],
            "text/html": [
              "\n",
              "  <div id=\"df-b2bcf432-ce6f-4fc6-abcf-7c3ff458f100\">\n",
              "    <div class=\"colab-df-container\">\n",
              "      <div>\n",
              "<style scoped>\n",
              "    .dataframe tbody tr th:only-of-type {\n",
              "        vertical-align: middle;\n",
              "    }\n",
              "\n",
              "    .dataframe tbody tr th {\n",
              "        vertical-align: top;\n",
              "    }\n",
              "\n",
              "    .dataframe thead th {\n",
              "        text-align: right;\n",
              "    }\n",
              "</style>\n",
              "<table border=\"1\" class=\"dataframe\">\n",
              "  <thead>\n",
              "    <tr style=\"text-align: right;\">\n",
              "      <th></th>\n",
              "      <th>text</th>\n",
              "      <th>sentiment</th>\n",
              "    </tr>\n",
              "  </thead>\n",
              "  <tbody>\n",
              "    <tr>\n",
              "      <th>0</th>\n",
              "      <td>able play youtube alexa</td>\n",
              "      <td>positive</td>\n",
              "    </tr>\n",
              "    <tr>\n",
              "      <th>1</th>\n",
              "      <td>able recognize indian accent really well drop ...</td>\n",
              "      <td>positive</td>\n",
              "    </tr>\n",
              "    <tr>\n",
              "      <th>2</th>\n",
              "      <td>absolute smart device amazon connect external ...</td>\n",
              "      <td>positive</td>\n",
              "    </tr>\n",
              "    <tr>\n",
              "      <th>3</th>\n",
              "      <td>absolutely amaze new member family control hom...</td>\n",
              "      <td>positive</td>\n",
              "    </tr>\n",
              "    <tr>\n",
              "      <th>4</th>\n",
              "      <td>absolutely amaze previously sceptical invest m...</td>\n",
              "      <td>positive</td>\n",
              "    </tr>\n",
              "  </tbody>\n",
              "</table>\n",
              "</div>\n",
              "      <button class=\"colab-df-convert\" onclick=\"convertToInteractive('df-b2bcf432-ce6f-4fc6-abcf-7c3ff458f100')\"\n",
              "              title=\"Convert this dataframe to an interactive table.\"\n",
              "              style=\"display:none;\">\n",
              "        \n",
              "  <svg xmlns=\"http://www.w3.org/2000/svg\" height=\"24px\"viewBox=\"0 0 24 24\"\n",
              "       width=\"24px\">\n",
              "    <path d=\"M0 0h24v24H0V0z\" fill=\"none\"/>\n",
              "    <path d=\"M18.56 5.44l.94 2.06.94-2.06 2.06-.94-2.06-.94-.94-2.06-.94 2.06-2.06.94zm-11 1L8.5 8.5l.94-2.06 2.06-.94-2.06-.94L8.5 2.5l-.94 2.06-2.06.94zm10 10l.94 2.06.94-2.06 2.06-.94-2.06-.94-.94-2.06-.94 2.06-2.06.94z\"/><path d=\"M17.41 7.96l-1.37-1.37c-.4-.4-.92-.59-1.43-.59-.52 0-1.04.2-1.43.59L10.3 9.45l-7.72 7.72c-.78.78-.78 2.05 0 2.83L4 21.41c.39.39.9.59 1.41.59.51 0 1.02-.2 1.41-.59l7.78-7.78 2.81-2.81c.8-.78.8-2.07 0-2.86zM5.41 20L4 18.59l7.72-7.72 1.47 1.35L5.41 20z\"/>\n",
              "  </svg>\n",
              "      </button>\n",
              "      \n",
              "  <style>\n",
              "    .colab-df-container {\n",
              "      display:flex;\n",
              "      flex-wrap:wrap;\n",
              "      gap: 12px;\n",
              "    }\n",
              "\n",
              "    .colab-df-convert {\n",
              "      background-color: #E8F0FE;\n",
              "      border: none;\n",
              "      border-radius: 50%;\n",
              "      cursor: pointer;\n",
              "      display: none;\n",
              "      fill: #1967D2;\n",
              "      height: 32px;\n",
              "      padding: 0 0 0 0;\n",
              "      width: 32px;\n",
              "    }\n",
              "\n",
              "    .colab-df-convert:hover {\n",
              "      background-color: #E2EBFA;\n",
              "      box-shadow: 0px 1px 2px rgba(60, 64, 67, 0.3), 0px 1px 3px 1px rgba(60, 64, 67, 0.15);\n",
              "      fill: #174EA6;\n",
              "    }\n",
              "\n",
              "    [theme=dark] .colab-df-convert {\n",
              "      background-color: #3B4455;\n",
              "      fill: #D2E3FC;\n",
              "    }\n",
              "\n",
              "    [theme=dark] .colab-df-convert:hover {\n",
              "      background-color: #434B5C;\n",
              "      box-shadow: 0px 1px 3px 1px rgba(0, 0, 0, 0.15);\n",
              "      filter: drop-shadow(0px 1px 2px rgba(0, 0, 0, 0.3));\n",
              "      fill: #FFFFFF;\n",
              "    }\n",
              "  </style>\n",
              "\n",
              "      <script>\n",
              "        const buttonEl =\n",
              "          document.querySelector('#df-b2bcf432-ce6f-4fc6-abcf-7c3ff458f100 button.colab-df-convert');\n",
              "        buttonEl.style.display =\n",
              "          google.colab.kernel.accessAllowed ? 'block' : 'none';\n",
              "\n",
              "        async function convertToInteractive(key) {\n",
              "          const element = document.querySelector('#df-b2bcf432-ce6f-4fc6-abcf-7c3ff458f100');\n",
              "          const dataTable =\n",
              "            await google.colab.kernel.invokeFunction('convertToInteractive',\n",
              "                                                     [key], {});\n",
              "          if (!dataTable) return;\n",
              "\n",
              "          const docLinkHtml = 'Like what you see? Visit the ' +\n",
              "            '<a target=\"_blank\" href=https://colab.research.google.com/notebooks/data_table.ipynb>data table notebook</a>'\n",
              "            + ' to learn more about interactive tables.';\n",
              "          element.innerHTML = '';\n",
              "          dataTable['output_type'] = 'display_data';\n",
              "          await google.colab.output.renderOutput(dataTable, element);\n",
              "          const docLink = document.createElement('div');\n",
              "          docLink.innerHTML = docLinkHtml;\n",
              "          element.appendChild(docLink);\n",
              "        }\n",
              "      </script>\n",
              "    </div>\n",
              "  </div>\n",
              "  "
            ]
          },
          "metadata": {},
          "execution_count": 2
        }
      ],
      "source": [
        "data=data.drop(data.columns[[0,2]],axis=1)\n",
        "data.columns =['text', 'sentiment']\n",
        "data.head()"
      ]
    },
    {
      "cell_type": "code",
      "source": [
        "# Import label encoder\n",
        "from sklearn import preprocessing\n",
        "  \n",
        "# label_encoder object knows \n",
        "# how to understand word labels.\n",
        "label_encoder = preprocessing.LabelEncoder()\n",
        "  \n",
        "# Encode labels in column 'species'.\n",
        "data['sentiment']= label_encoder.fit_transform(data['sentiment'])\n",
        "  \n",
        "data['sentiment'].unique()"
      ],
      "metadata": {
        "colab": {
          "base_uri": "https://localhost:8080/"
        },
        "id": "V3mL0IqrQuU9",
        "outputId": "acbc1c43-f517-43ce-e1a6-a7730ad5f1ea"
      },
      "id": "V3mL0IqrQuU9",
      "execution_count": 3,
      "outputs": [
        {
          "output_type": "execute_result",
          "data": {
            "text/plain": [
              "array([2, 1, 0])"
            ]
          },
          "metadata": {},
          "execution_count": 3
        }
      ]
    },
    {
      "cell_type": "code",
      "source": [
        "# Drop rows with missing values\n",
        "data.dropna(inplace=True)\n",
        "\n",
        "# Preprocess the data\n",
        "stop_words = set(stopwords.words('english'))\n",
        "\n",
        "# Remove stopwords and perform lowercasing\n",
        "data['Cleaned_Text'] = data['text'].apply(lambda x: ' '.join([word.lower() for word in str(x).split() if word.lower() not in stop_words]))\n",
        "\n",
        "# Split the data into train and test sets\n",
        "X_train, X_test, y_train, y_test = train_test_split(data['Cleaned_Text'], data['sentiment'], test_size=0.2, random_state=42)\n",
        "\n",
        "# Convert text to numerical features using CountVectorizer\n",
        "vectorizer = CountVectorizer()\n",
        "X_train_vectorized = vectorizer.fit_transform(X_train)\n",
        "X_test_vectorized = vectorizer.transform(X_test)"
      ],
      "metadata": {
        "id": "JcerXUkqQx_u"
      },
      "id": "JcerXUkqQx_u",
      "execution_count": 4,
      "outputs": []
    },
    {
      "cell_type": "code",
      "source": [
        "# Train the Naive Bayes classifier\n",
        "naive_bayes = MultinomialNB()\n",
        "naive_bayes.fit(X_train_vectorized, y_train)\n",
        "\n",
        "# Predict on the test set\n",
        "y_pred_NB = naive_bayes.predict(X_test_vectorized)"
      ],
      "metadata": {
        "id": "o-0Or7G9Qzc1"
      },
      "id": "o-0Or7G9Qzc1",
      "execution_count": 5,
      "outputs": []
    },
    {
      "cell_type": "code",
      "source": [
        "# Generate classification report\n",
        "accuracy_NB=accuracy_score(y_test,y_pred_NB)\n",
        "sns.heatmap(confusion_matrix(y_test,y_pred_NB),annot=True)\n",
        "report_NB = classification_report(y_test, y_pred_NB)\n",
        "print(report_NB)"
      ],
      "metadata": {
        "colab": {
          "base_uri": "https://localhost:8080/",
          "height": 613
        },
        "id": "BNGeuNXUQ4Lq",
        "outputId": "497174e0-e502-475b-c9f6-a2619e2e7a5d"
      },
      "id": "BNGeuNXUQ4Lq",
      "execution_count": 6,
      "outputs": [
        {
          "output_type": "stream",
          "name": "stdout",
          "text": [
            "              precision    recall  f1-score   support\n",
            "\n",
            "           0       0.82      0.25      0.38        93\n",
            "           1       0.67      0.05      0.09       127\n",
            "           2       0.76      0.99      0.86       597\n",
            "\n",
            "    accuracy                           0.76       817\n",
            "   macro avg       0.75      0.43      0.44       817\n",
            "weighted avg       0.75      0.76      0.69       817\n",
            "\n"
          ]
        },
        {
          "output_type": "display_data",
          "data": {
            "text/plain": [
              "<Figure size 640x480 with 2 Axes>"
            ],
            "image/png": "[encoded data removed]"
          },
          "metadata": {}
        }
      ]
    },
    {
      "cell_type": "code",
      "execution_count": 7,
      "id": "e03c652c",
      "metadata": {
        "colab": {
          "base_uri": "https://localhost:8080/",
          "height": 613
        },
        "id": "e03c652c",
        "outputId": "572316d9-3f62-462a-eea9-aefb067d0931"
      },
      "outputs": [
        {
          "output_type": "stream",
          "name": "stdout",
          "text": [
            "              precision    recall  f1-score   support\n",
            "\n",
            "           0       0.64      0.61      0.63        93\n",
            "           1       0.80      0.83      0.82       127\n",
            "           2       0.93      0.93      0.93       597\n",
            "\n",
            "    accuracy                           0.88       817\n",
            "   macro avg       0.79      0.79      0.79       817\n",
            "weighted avg       0.88      0.88      0.88       817\n",
            "\n"
          ]
        },
        {
          "output_type": "display_data",
          "data": {
            "text/plain": [
              "<Figure size 640x480 with 2 Axes>"
            ],
            "image/png": "[encoded data removed]"
          },
          "metadata": {}
        }
      ],
      "source": [
        "from sklearn.tree import DecisionTreeClassifier\n",
        "clf=DecisionTreeClassifier()\n",
        "clf.fit(X_train_vectorized,y_train)\n",
        "y_pred_DT=clf.predict(X_test_vectorized)\n",
        "report_DT = classification_report(y_test, y_pred_DT)\n",
        "accuracy_DT=accuracy_score(y_test,y_pred_DT)\n",
        "sns.heatmap(confusion_matrix(y_test,y_pred_DT),annot=True)\n",
        "print(report_DT)"
      ]
    },
    {
      "cell_type": "code",
      "execution_count": 8,
      "id": "dfcd94c3",
      "metadata": {
        "id": "dfcd94c3"
      },
      "outputs": [],
      "source": [
        "import numpy as np\n",
        "import pandas as pd\n",
        "from gensim.models import Word2Vec\n",
        "from tensorflow.keras.models import Sequential\n",
        "from tensorflow.keras.layers import Dense, LSTM, Bidirectional, Embedding\n",
        "from tensorflow.keras.preprocessing.sequence import pad_sequences\n",
        "from tensorflow.keras.utils import to_categorical\n",
        "from sklearn.model_selection import train_test_split"
      ]
    },
    {
      "cell_type": "code",
      "execution_count": 9,
      "id": "e9959ecd",
      "metadata": {
        "id": "e9959ecd"
      },
      "outputs": [],
      "source": [
        "# Preprocess the dataset\n",
        "sentences = data['text'].astype(str).values  # Convert to string\n",
        "labels = data['sentiment'].values\n",
        "\n",
        "# Split the dataset into training and testing sets\n",
        "train_sentences, test_sentences, train_labels, test_labels = train_test_split(sentences, labels, test_size=0.2, random_state=42)\n",
        "\n",
        "# Tokenize the sentences into words\n",
        "train_words = [sentence.lower().split() for sentence in train_sentences]\n",
        "test_words = [sentence.lower().split() for sentence in test_sentences]"
      ]
    },
    {
      "cell_type": "code",
      "execution_count": 10,
      "id": "0d792025",
      "metadata": {
        "id": "0d792025"
      },
      "outputs": [],
      "source": [
        "# Train Word2Vec model\n",
        "w2v_model = Word2Vec(train_words, vector_size=100, window=5, min_count=1)\n",
        "\n",
        "# Get the vocabulary size\n",
        "vocab_size = len(w2v_model.wv.index_to_key)\n",
        "\n",
        "# Convert words to indices\n",
        "train_sequences = [[w2v_model.wv.key_to_index[word] for word in sentence if word in w2v_model.wv.key_to_index] for sentence in train_words]\n",
        "test_sequences = [[w2v_model.wv.key_to_index[word] for word in sentence if word in w2v_model.wv.key_to_index] for sentence in test_words]\n",
        "\n",
        "# Pad sequences to have the same length\n",
        "max_length = max(max(len(train_seq), len(test_seq)) for train_seq, test_seq in zip(train_sequences, test_sequences))\n",
        "train_sequences = pad_sequences(train_sequences, maxlen=max_length, padding='post')\n",
        "test_sequences = pad_sequences(test_sequences, maxlen=max_length, padding='post')"
      ]
    },
    {
      "cell_type": "code",
      "execution_count": 11,
      "id": "51c68efa",
      "metadata": {
        "id": "51c68efa"
      },
      "outputs": [],
      "source": [
        "valid_indices = np.where(train_labels < 3)  # Filter out invalid labels\n",
        "train_labels = train_labels[valid_indices]\n",
        "train_sequences = train_sequences[valid_indices]"
      ]
    },
    {
      "cell_type": "code",
      "execution_count": 12,
      "id": "03943534",
      "metadata": {
        "colab": {
          "base_uri": "https://localhost:8080/"
        },
        "id": "03943534",
        "outputId": "8690353e-9fde-4a93-bc9c-119ffe691e00"
      },
      "outputs": [
        {
          "output_type": "stream",
          "name": "stdout",
          "text": [
            "Epoch 1/10\n",
            "13/13 [==============================] - 22s 766ms/step - loss: 0.9234 - accuracy: 0.7003 - val_loss: 0.8238 - val_accuracy: 0.7307\n",
            "Epoch 2/10\n",
            "13/13 [==============================] - 5s 415ms/step - loss: 0.7254 - accuracy: 0.7557 - val_loss: 0.7477 - val_accuracy: 0.7307\n",
            "Epoch 3/10\n",
            "13/13 [==============================] - 7s 556ms/step - loss: 0.6825 - accuracy: 0.7557 - val_loss: 0.7211 - val_accuracy: 0.7307\n",
            "Epoch 4/10\n",
            "13/13 [==============================] - 3s 224ms/step - loss: 0.6229 - accuracy: 0.7557 - val_loss: 0.6582 - val_accuracy: 0.7307\n",
            "Epoch 5/10\n",
            "13/13 [==============================] - 2s 170ms/step - loss: 0.5190 - accuracy: 0.7744 - val_loss: 0.5839 - val_accuracy: 0.7344\n",
            "Epoch 6/10\n",
            "13/13 [==============================] - 2s 168ms/step - loss: 0.3976 - accuracy: 0.8286 - val_loss: 0.5787 - val_accuracy: 0.7503\n",
            "Epoch 7/10\n",
            "13/13 [==============================] - 2s 137ms/step - loss: 0.3728 - accuracy: 0.8589 - val_loss: 0.5838 - val_accuracy: 0.7674\n",
            "Epoch 8/10\n",
            "13/13 [==============================] - 4s 291ms/step - loss: 0.3159 - accuracy: 0.8687 - val_loss: 0.5323 - val_accuracy: 0.7613\n",
            "Epoch 9/10\n",
            "13/13 [==============================] - 3s 182ms/step - loss: 0.2622 - accuracy: 0.9008 - val_loss: 0.5479 - val_accuracy: 0.7662\n",
            "Epoch 10/10\n",
            "13/13 [==============================] - 3s 188ms/step - loss: 0.2229 - accuracy: 0.9186 - val_loss: 0.5956 - val_accuracy: 0.7797\n"
          ]
        },
        {
          "output_type": "execute_result",
          "data": {
            "text/plain": [
              "<keras.callbacks.History at 0x7fd8501a7dc0>"
            ]
          },
          "metadata": {},
          "execution_count": 12
        }
      ],
      "source": [
        "# Define the model\n",
        "model = Sequential()\n",
        "model.add(Embedding(vocab_size, 100, input_length=max_length, trainable=True))\n",
        "model.add(Bidirectional(LSTM(64)))\n",
        "model.add(Dense(3, activation='softmax'))  # Assuming 3 classes: negative, neutral, positive\n",
        "\n",
        "# Compile the model\n",
        "model.compile(loss='categorical_crossentropy', optimizer='adam', metrics=['accuracy'])\n",
        "\n",
        "# Convert labels to one-hot vectors\n",
        "train_labels_one_hot = to_categorical(train_labels, num_classes=3)\n",
        "test_labels_one_hot = to_categorical(test_labels, num_classes=3)\n",
        "\n",
        "# Train the model\n",
        "model.fit(train_sequences, train_labels_one_hot, validation_data=(test_sequences, test_labels_one_hot), epochs=10, batch_size=256)"
      ]
    },
    {
      "cell_type": "code",
      "execution_count": 13,
      "id": "2c470be7",
      "metadata": {
        "colab": {
          "base_uri": "https://localhost:8080/"
        },
        "id": "2c470be7",
        "outputId": "c52a70a0-4ff4-4e6a-c52b-e22d699cd70a"
      },
      "outputs": [
        {
          "output_type": "stream",
          "name": "stdout",
          "text": [
            "26/26 [==============================] - 1s 8ms/step\n"
          ]
        }
      ],
      "source": [
        "y_hat_LSTM=model.predict(test_sequences)"
      ]
    },
    {
      "cell_type": "code",
      "execution_count": 14,
      "id": "249372d0",
      "metadata": {
        "colab": {
          "base_uri": "https://localhost:8080/"
        },
        "id": "249372d0",
        "outputId": "0c01eef7-4ccb-4518-d357-a8982b6b13a9"
      },
      "outputs": [
        {
          "output_type": "execute_result",
          "data": {
            "text/plain": [
              "array([[5.52756712e-02, 1.08842626e-02, 9.33840096e-01],\n",
              "       [7.09327869e-04, 6.30332332e-04, 9.98660326e-01],\n",
              "       [3.45241046e-04, 3.73547780e-04, 9.99281228e-01],\n",
              "       ...,\n",
              "       [8.70795548e-01, 1.08708486e-01, 2.04959586e-02],\n",
              "       [1.05931330e-02, 1.65160745e-02, 9.72890794e-01],\n",
              "       [2.54672676e-01, 5.93459606e-02, 6.85981333e-01]], dtype=float32)"
            ]
          },
          "metadata": {},
          "execution_count": 14
        }
      ],
      "source": [
        "y_hat_LSTM"
      ]
    },
    {
      "cell_type": "code",
      "execution_count": 15,
      "id": "70bd1330",
      "metadata": {
        "id": "70bd1330"
      },
      "outputs": [],
      "source": [
        "y_pred_LSTM=[]\n",
        "for i in range(len(y_hat_LSTM)):\n",
        "    y_pred_LSTM.append(np.argmax(y_hat_LSTM[i]))"
      ]
    },
    {
      "cell_type": "code",
      "execution_count": 16,
      "id": "a8aa5784",
      "metadata": {
        "colab": {
          "base_uri": "https://localhost:8080/",
          "height": 667
        },
        "id": "a8aa5784",
        "outputId": "bd588390-ba4f-4ec3-8f72-275ecc6e1bc0"
      },
      "outputs": [
        {
          "output_type": "stream",
          "name": "stdout",
          "text": [
            "Accuracy: 0.7796817625458996\n",
            "Classification Report:\n",
            "              precision    recall  f1-score   support\n",
            "\n",
            "    negative       0.45      0.56      0.50        93\n",
            "     neutral       0.66      0.30      0.41       127\n",
            "    positive       0.85      0.92      0.88       597\n",
            "\n",
            "    accuracy                           0.78       817\n",
            "   macro avg       0.65      0.59      0.60       817\n",
            "weighted avg       0.77      0.78      0.76       817\n",
            "\n"
          ]
        },
        {
          "output_type": "execute_result",
          "data": {
            "text/plain": [
              "<Axes: >"
            ]
          },
          "metadata": {},
          "execution_count": 16
        },
        {
          "output_type": "display_data",
          "data": {
            "text/plain": [
              "<Figure size 640x480 with 2 Axes>"
            ],
            "image/png": "[encoded data removed]"
          },
          "metadata": {}
        }
      ],
      "source": [
        "# Calculate accuracy\n",
        "from sklearn.metrics import accuracy_score\n",
        "accuracy_BILSTM = accuracy_score(test_labels, y_pred_LSTM)\n",
        "print('Accuracy:', accuracy_BILSTM)\n",
        "# Generate classification report\n",
        "class_labels = ['negative', 'neutral', 'positive']\n",
        "report = classification_report(test_labels, y_pred_LSTM, target_names=class_labels)\n",
        "print('Classification Report:')\n",
        "print(report)\n",
        "\n",
        "# Generate confusion matrix\n",
        "from sklearn.metrics import confusion_matrix\n",
        "import seaborn as sns\n",
        "confusion_mat = confusion_matrix(test_labels, y_pred_LSTM)\n",
        "sns.heatmap(confusion_mat,annot=True)"
      ]
    },
    {
      "cell_type": "code",
      "source": [
        "pip install transformers"
      ],
      "metadata": {
        "colab": {
          "base_uri": "https://localhost:8080/"
        },
        "id": "EOBDTscdN4Bt",
        "outputId": "c7547883-abbc-46f2-daeb-526014ac6c50"
      },
      "id": "EOBDTscdN4Bt",
      "execution_count": 17,
      "outputs": [
        {
          "output_type": "stream",
          "name": "stdout",
          "text": [
            "Looking in indexes: https://pypi.org/simple, https://us-python.pkg.dev/colab-wheels/public/simple/\n",
            "Requirement already satisfied: transformers in /usr/local/lib/python3.10/dist-packages (4.30.0)\n",
            "Requirement already satisfied: filelock in /usr/local/lib/python3.10/dist-packages (from transformers) (3.12.0)\n",
            "Requirement already satisfied: huggingface-hub<1.0,>=0.14.1 in /usr/local/lib/python3.10/dist-packages (from transformers) (0.15.1)\n",
            "Requirement already satisfied: numpy>=1.17 in /usr/local/lib/python3.10/dist-packages (from transformers) (1.22.4)\n",
            "Requirement already satisfied: packaging>=20.0 in /usr/local/lib/python3.10/dist-packages (from transformers) (23.1)\n",
            "Requirement already satisfied: pyyaml>=5.1 in /usr/local/lib/python3.10/dist-packages (from transformers) (6.0)\n",
            "Requirement already satisfied: regex!=2019.12.17 in /usr/local/lib/python3.10/dist-packages (from transformers) (2022.10.31)\n",
            "Requirement already satisfied: requests in /usr/local/lib/python3.10/dist-packages (from transformers) (2.27.1)\n",
            "Requirement already satisfied: tokenizers!=0.11.3,<0.14,>=0.11.1 in /usr/local/lib/python3.10/dist-packages (from transformers) (0.13.3)\n",
            "Requirement already satisfied: safetensors>=0.3.1 in /usr/local/lib/python3.10/dist-packages (from transformers) (0.3.1)\n",
            "Requirement already satisfied: tqdm>=4.27 in /usr/local/lib/python3.10/dist-packages (from transformers) (4.65.0)\n",
            "Requirement already satisfied: fsspec in /usr/local/lib/python3.10/dist-packages (from huggingface-hub<1.0,>=0.14.1->transformers) (2023.4.0)\n",
            "Requirement already satisfied: typing-extensions>=3.7.4.3 in /usr/local/lib/python3.10/dist-packages (from huggingface-hub<1.0,>=0.14.1->transformers) (4.5.0)\n",
            "Requirement already satisfied: urllib3<1.27,>=1.21.1 in /usr/local/lib/python3.10/dist-packages (from requests->transformers) (1.26.15)\n",
            "Requirement already satisfied: certifi>=2017.4.17 in /usr/local/lib/python3.10/dist-packages (from requests->transformers) (2022.12.7)\n",
            "Requirement already satisfied: charset-normalizer~=2.0.0 in /usr/local/lib/python3.10/dist-packages (from requests->transformers) (2.0.12)\n",
            "Requirement already satisfied: idna<4,>=2.5 in /usr/local/lib/python3.10/dist-packages (from requests->transformers) (3.4)\n"
          ]
        }
      ]
    },
    {
      "cell_type": "code",
      "execution_count": 18,
      "id": "c5a0539c",
      "metadata": {
        "id": "c5a0539c"
      },
      "outputs": [],
      "source": [
        "import torch\n",
        "from transformers import BertTokenizer, BertModel\n",
        "import logging\n",
        "tokenizer = BertTokenizer.from_pretrained('bert-base-uncased')"
      ]
    },
    {
      "cell_type": "code",
      "execution_count": 19,
      "id": "e9f3530c",
      "metadata": {
        "colab": {
          "base_uri": "https://localhost:8080/"
        },
        "id": "e9f3530c",
        "outputId": "e0cde0f9-a52f-4455-b565-8974c3575e6a"
      },
      "outputs": [
        {
          "output_type": "execute_result",
          "data": {
            "text/plain": [
              "array([2, 1, 0])"
            ]
          },
          "metadata": {},
          "execution_count": 19
        }
      ],
      "source": [
        "# Load the Twitter sentiment dataset\n",
        "df = pd.read_csv('EcoPreprocessed.csv')\n",
        "df=df.drop(df.columns[[0,2]],axis=1)\n",
        "df.columns =['text', 'sentiment']\n",
        "# Import label encoder\n",
        "from sklearn import preprocessing\n",
        "  \n",
        "# label_encoder object knows \n",
        "# how to understand word labels.\n",
        "label_encoder = preprocessing.LabelEncoder()\n",
        "  \n",
        "# Encode labels in column 'species'.\n",
        "df['sentiment']= label_encoder.fit_transform(df['sentiment'])\n",
        "  \n",
        "df['sentiment'].unique()"
      ]
    },
    {
      "cell_type": "code",
      "execution_count": 20,
      "id": "082517cb",
      "metadata": {
        "id": "082517cb"
      },
      "outputs": [],
      "source": [
        "token_var = \"\"\n",
        "def token_text(text):\n",
        "  marked_text = \"[CLS] \" + text + \" [SEP]\"\n",
        "\n",
        "  # Tokenize our sentence with the BERT tokenizer.\n",
        "  tokenized_text = tokenizer.tokenize(marked_text)\n",
        "\n",
        "  # Print out the tokens.\n",
        " # print (tokenized_text)\n",
        "\n",
        "  # Display the words with their indeces.\n",
        "  indexed_tokens = tokenizer.convert_tokens_to_ids(tokenized_text)\n",
        "  for tup in zip(tokenized_text, indexed_tokens):\n",
        "      print('{:<12} {:>6,}'.format(tup[0], tup[1])) \n",
        "  segments_ids = [1] * len(tokenized_text)\n",
        "\n",
        "  print (segments_ids)\n",
        "\n",
        "  # Convert inputs to PyTorch tensors\n",
        "  tokens_tensor = torch.tensor([indexed_tokens])\n",
        "  segments_tensors = torch.tensor([segments_ids])\n",
        "  # Load pre-trained model (weights)\n",
        "  model = BertModel.from_pretrained('bert-base-uncased',\n",
        "                                  output_hidden_states = True, # Whether the model returns all hidden-states.\n",
        "                                  )\n",
        "\n",
        "# Put the model in \"evaluation\" mode, meaning feed-forward operation.\n",
        "  model.eval()\n",
        "  with torch.no_grad():\n",
        "\n",
        "    outputs = model(tokens_tensor, segments_tensors)\n",
        "    hidden_states = outputs[2]\n",
        "\n",
        "  "
      ]
    },
    {
      "cell_type": "code",
      "execution_count": 21,
      "id": "1f471f65",
      "metadata": {
        "colab": {
          "base_uri": "https://localhost:8080/"
        },
        "id": "1f471f65",
        "outputId": "5e090c8d-be77-46c5-bb48-9dd46a8d2e0c"
      },
      "outputs": [
        {
          "output_type": "stream",
          "name": "stdout",
          "text": [
            "[CLS]           101\n",
            "able          2,583\n",
            "play          2,377\n",
            "youtube       7,858\n",
            "alexa        24,969\n",
            "[SEP]           102\n",
            "[1, 1, 1, 1, 1, 1]\n"
          ]
        },
        {
          "output_type": "stream",
          "name": "stderr",
          "text": [
            "Some weights of the model checkpoint at bert-base-uncased were not used when initializing BertModel: ['cls.seq_relationship.weight', 'cls.predictions.transform.dense.bias', 'cls.predictions.transform.dense.weight', 'cls.predictions.transform.LayerNorm.weight', 'cls.predictions.transform.LayerNorm.bias', 'cls.seq_relationship.bias', 'cls.predictions.bias']\n",
            "- This IS expected if you are initializing BertModel from the checkpoint of a model trained on another task or with another architecture (e.g. initializing a BertForSequenceClassification model from a BertForPreTraining model).\n",
            "- This IS NOT expected if you are initializing BertModel from the checkpoint of a model that you expect to be exactly identical (initializing a BertForSequenceClassification model from a BertForSequenceClassification model).\n"
          ]
        }
      ],
      "source": [
        "token_text(df['text'][0])"
      ]
    },
    {
      "cell_type": "code",
      "execution_count": 22,
      "id": "64e7b037",
      "metadata": {
        "colab": {
          "base_uri": "https://localhost:8080/"
        },
        "id": "64e7b037",
        "outputId": "d448b75e-b6c8-4a57-b7a2-351cbcf59961"
      },
      "outputs": [
        {
          "output_type": "stream",
          "name": "stderr",
          "text": [
            "Truncation was not explicitly activated but `max_length` is provided a specific value, please use `truncation=True` to explicitly truncate examples to max length. Defaulting to 'longest_first' truncation strategy. If you encode pairs of sequences (GLUE-style) with the tokenizer you can select this strategy more precisely by providing a specific strategy to `truncation`.\n",
            "/usr/local/lib/python3.10/dist-packages/transformers/tokenization_utils_base.py:2377: FutureWarning: The `pad_to_max_length` argument is deprecated and will be removed in a future version, use `padding=True` or `padding='longest'` to pad to the longest sequence in the batch, or use `padding='max_length'` to pad to a max length. In this case, you can give a specific length with `max_length` (e.g. `max_length=45`) or leave max_length to None to pad to the maximal input size of the model (e.g. 512 for Bert).\n",
            "  warnings.warn(\n",
            "Some weights of the PyTorch model were not used when initializing the TF 2.0 model TFBertModel: ['cls.predictions.transform.dense.weight', 'cls.predictions.transform.dense.bias', 'cls.seq_relationship.bias', 'cls.seq_relationship.weight', 'cls.predictions.transform.LayerNorm.weight', 'cls.predictions.bias', 'cls.predictions.transform.LayerNorm.bias']\n",
            "- This IS expected if you are initializing TFBertModel from a PyTorch model trained on another task or with another architecture (e.g. initializing a TFBertForSequenceClassification model from a BertForPreTraining model).\n",
            "- This IS NOT expected if you are initializing TFBertModel from a PyTorch model that you expect to be exactly identical (e.g. initializing a TFBertForSequenceClassification model from a BertForSequenceClassification model).\n",
            "All the weights of TFBertModel were initialized from the PyTorch model.\n",
            "If your task is similar to the task the model of the checkpoint was trained on, you can already use TFBertModel for predictions without further training.\n"
          ]
        },
        {
          "output_type": "stream",
          "name": "stdout",
          "text": [
            "Model: \"model\"\n",
            "__________________________________________________________________________________________________\n",
            " Layer (type)                   Output Shape         Param #     Connected to                     \n",
            "==================================================================================================\n",
            " input_1 (InputLayer)           [(None, 100)]        0           []                               \n",
            "                                                                                                  \n",
            " input_2 (InputLayer)           [(None, 100)]        0           []                               \n",
            "                                                                                                  \n",
            " tf_bert_model (TFBertModel)    TFBaseModelOutputWi  109482240   ['input_1[0][0]',                \n",
            "                                thPoolingAndCrossAt               'input_2[0][0]']                \n",
            "                                tentions(last_hidde                                               \n",
            "                                n_state=(None, 100,                                               \n",
            "                                 768),                                                            \n",
            "                                 pooler_output=(Non                                               \n",
            "                                e, 768),                                                          \n",
            "                                 past_key_values=No                                               \n",
            "                                ne, hidden_states=N                                               \n",
            "                                one, attentions=Non                                               \n",
            "                                e, cross_attentions                                               \n",
            "                                =None)                                                            \n",
            "                                                                                                  \n",
            " dense_1 (Dense)                (None, 100, 32)      24608       ['tf_bert_model[0][0]']          \n",
            "                                                                                                  \n",
            " global_average_pooling1d (Glob  (None, 32)          0           ['dense_1[0][0]']                \n",
            " alAveragePooling1D)                                                                              \n",
            "                                                                                                  \n",
            " dense_2 (Dense)                (None, 3)            99          ['global_average_pooling1d[0][0]'\n",
            "                                                                 ]                                \n",
            "                                                                                                  \n",
            "==================================================================================================\n",
            "Total params: 109,506,947\n",
            "Trainable params: 24,707\n",
            "Non-trainable params: 109,482,240\n",
            "__________________________________________________________________________________________________\n",
            "Epoch 1/10\n",
            "103/103 [==============================] - 58s 382ms/step - loss: 1.3085 - accuracy: 0.1781 - val_loss: 1.0717 - val_accuracy: 0.1420\n",
            "Epoch 2/10\n",
            "103/103 [==============================] - 30s 294ms/step - loss: 0.8284 - accuracy: 0.7637 - val_loss: 0.8540 - val_accuracy: 0.6854\n",
            "Epoch 3/10\n",
            "103/103 [==============================] - 35s 339ms/step - loss: 0.7199 - accuracy: 0.7671 - val_loss: 0.8566 - val_accuracy: 0.6854\n",
            "Epoch 4/10\n",
            "103/103 [==============================] - 35s 337ms/step - loss: 0.7096 - accuracy: 0.7671 - val_loss: 0.8643 - val_accuracy: 0.6854\n",
            "Epoch 5/10\n",
            "103/103 [==============================] - 35s 338ms/step - loss: 0.7083 - accuracy: 0.7671 - val_loss: 0.8653 - val_accuracy: 0.6854\n",
            "Epoch 6/10\n",
            "103/103 [==============================] - 35s 338ms/step - loss: 0.7072 - accuracy: 0.7671 - val_loss: 0.8659 - val_accuracy: 0.6854\n",
            "Epoch 7/10\n",
            "103/103 [==============================] - 35s 338ms/step - loss: 0.7054 - accuracy: 0.7671 - val_loss: 0.8667 - val_accuracy: 0.6854\n",
            "Epoch 8/10\n",
            "103/103 [==============================] - 35s 337ms/step - loss: 0.7065 - accuracy: 0.7671 - val_loss: 0.8669 - val_accuracy: 0.6854\n",
            "Epoch 9/10\n",
            "103/103 [==============================] - 35s 339ms/step - loss: 0.7048 - accuracy: 0.7671 - val_loss: 0.8662 - val_accuracy: 0.6854\n",
            "Epoch 10/10\n",
            "103/103 [==============================] - 35s 338ms/step - loss: 0.7077 - accuracy: 0.7671 - val_loss: 0.8653 - val_accuracy: 0.6854\n"
          ]
        }
      ],
      "source": [
        "import tensorflow as tf\n",
        "from transformers import BertTokenizer, TFBertModel\n",
        "from tensorflow.keras.preprocessing.sequence import pad_sequences\n",
        "from tensorflow.keras.layers import Input, Dense\n",
        "from tensorflow.keras.models import Model\n",
        "from tensorflow.keras.optimizers import Adam\n",
        "\n",
        "# Load and preprocess the dataset\n",
        "dataset = ...  # Load your financial_news dataset here\n",
        "sentences = df['text'].tolist()\n",
        "sentiment_labels = df['sentiment'].tolist()\n",
        "\n",
        "# Define the parameters\n",
        "max_seq_length = 100  # Maximum sequence length\n",
        "num_classes = 3  # Number of sentiment classes (positive, negative, neutral)\n",
        "\n",
        "# Load the BERT tokenizer\n",
        "tokenizer = BertTokenizer.from_pretrained('bert-base-uncased')\n",
        "\n",
        "# Tokenize and encode the sentences\n",
        "input_ids = []\n",
        "attention_masks = []\n",
        "\n",
        "for sentence in sentences:\n",
        "    encoded_dict = tokenizer.encode_plus(\n",
        "        sentences,\n",
        "        add_special_tokens=True,\n",
        "        max_length=max_seq_length,\n",
        "        pad_to_max_length=True,\n",
        "        return_attention_mask=True,\n",
        "        return_tensors='tf'\n",
        "    )\n",
        "\n",
        "    input_ids.append(encoded_dict['input_ids'])\n",
        "    attention_masks.append(encoded_dict['attention_mask'])\n",
        "\n",
        "input_ids = tf.concat(input_ids, axis=0)\n",
        "attention_masks = tf.concat(attention_masks, axis=0)\n",
        "sentiment_labels = tf.one_hot(sentiment_labels, depth=num_classes)\n",
        "\n",
        "# Split the dataset into training and testing sets\n",
        "split_ratio = 0.8  # 80% for training, 20% for testing\n",
        "split_index = int(len(input_ids) * split_ratio)\n",
        "\n",
        "train_input_ids = input_ids[:split_index]\n",
        "train_attention_masks = attention_masks[:split_index]\n",
        "train_labels = sentiment_labels[:split_index]\n",
        "test_input_ids = input_ids[split_index:]\n",
        "test_attention_masks = attention_masks[split_index:]\n",
        "test_labels = sentiment_labels[split_index:]\n",
        "\n",
        "# Load the BERT model\n",
        "bert_model = TFBertModel.from_pretrained('bert-base-uncased')\n",
        "\n",
        "# Freeze the BERT layers\n",
        "bert_model.trainable = False\n",
        "\n",
        "# Define the model architecture\n",
        "input_ids_layer = Input(shape=(max_seq_length,), dtype=tf.int32)\n",
        "attention_masks_layer = Input(shape=(max_seq_length,), dtype=tf.int32)\n",
        "bert_output = bert_model(input_ids_layer, attention_mask=attention_masks_layer)[0]\n",
        "relu_layer = Dense(units=32,activation='relu')(bert_output)\n",
        "pooling_layer = tf.keras.layers.GlobalAveragePooling1D()(relu_layer)\n",
        "output_layer = Dense(units=num_classes, activation='softmax')(pooling_layer)\n",
        "\n",
        "model = Model(inputs=[input_ids_layer, attention_masks_layer], outputs=output_layer)\n",
        "model.summary()\n",
        "\n",
        "# Compile and train the model\n",
        "model.compile(optimizer=Adam(learning_rate=1e-5), loss='categorical_crossentropy', metrics=['accuracy'])\n",
        "history = model.fit(\n",
        "    [train_input_ids, train_attention_masks],\n",
        "    train_labels,\n",
        "    epochs=10,\n",
        "    batch_size=32,\n",
        "    validation_data=([test_input_ids, test_attention_masks], test_labels)\n",
        ")"
      ]
    },
    {
      "cell_type": "code",
      "source": [
        "y_hat_BERT=model.predict([test_input_ids,test_attention_masks])"
      ],
      "metadata": {
        "id": "6SWCizB6TUpG",
        "colab": {
          "base_uri": "https://localhost:8080/"
        },
        "outputId": "ba1bb818-7dcf-452d-9063-02608312b34f"
      },
      "id": "6SWCizB6TUpG",
      "execution_count": 23,
      "outputs": [
        {
          "output_type": "stream",
          "name": "stdout",
          "text": [
            "26/26 [==============================] - 9s 222ms/step\n"
          ]
        }
      ]
    },
    {
      "cell_type": "code",
      "source": [
        "y_pred_BERT=[]\n",
        "for i in range(len(y_hat_BERT)):\n",
        "    y_pred_BERT.append(np.argmax(y_hat_BERT[i]))"
      ],
      "metadata": {
        "id": "MRyXrJqKj0In"
      },
      "id": "MRyXrJqKj0In",
      "execution_count": 24,
      "outputs": []
    },
    {
      "cell_type": "code",
      "source": [
        "test_labels=np.array(test_labels)"
      ],
      "metadata": {
        "id": "kRujScpLkU8Q"
      },
      "id": "kRujScpLkU8Q",
      "execution_count": 25,
      "outputs": []
    },
    {
      "cell_type": "code",
      "source": [
        "test_labels1=[]\n",
        "for i in range(len(test_labels)):\n",
        "    test_labels1.append(np.argmax(test_labels[i]))"
      ],
      "metadata": {
        "id": "8Fiwp59roSkN"
      },
      "id": "8Fiwp59roSkN",
      "execution_count": 26,
      "outputs": []
    },
    {
      "cell_type": "code",
      "source": [
        "# Calculate accuracy\n",
        "from sklearn.metrics import accuracy_score\n",
        "accuracy_BERT = accuracy_score(test_labels1, y_pred_BERT)\n",
        "print('Accuracy:', accuracy_BERT)\n",
        "# Generate classification report\n",
        "class_labels = ['negative', 'neutral', 'positive']\n",
        "report = classification_report(test_labels1, y_pred_BERT)\n",
        "print('Classification Report:')\n",
        "print(report)\n",
        "\n",
        "# Generate confusion matrix\n",
        "from sklearn.metrics import confusion_matrix\n",
        "import seaborn as sns\n",
        "confusion_mat = confusion_matrix(test_labels1, y_pred_BERT)\n",
        "sns.heatmap(confusion_mat,annot=True)"
      ],
      "metadata": {
        "colab": {
          "base_uri": "https://localhost:8080/",
          "height": 797
        },
        "id": "jUnbdt42j6gr",
        "outputId": "655f4fca-58fd-4c4d-8470-62844b1f32c5"
      },
      "id": "jUnbdt42j6gr",
      "execution_count": 27,
      "outputs": [
        {
          "output_type": "stream",
          "name": "stdout",
          "text": [
            "Accuracy: 0.6854345165238678\n",
            "Classification Report:\n",
            "              precision    recall  f1-score   support\n",
            "\n",
            "           0       0.00      0.00      0.00       141\n",
            "           1       0.00      0.00      0.00       116\n",
            "           2       0.69      1.00      0.81       560\n",
            "\n",
            "    accuracy                           0.69       817\n",
            "   macro avg       0.23      0.33      0.27       817\n",
            "weighted avg       0.47      0.69      0.56       817\n",
            "\n"
          ]
        },
        {
          "output_type": "stream",
          "name": "stderr",
          "text": [
            "/usr/local/lib/python3.10/dist-packages/sklearn/metrics/_classification.py:1344: UndefinedMetricWarning: Precision and F-score are ill-defined and being set to 0.0 in labels with no predicted samples. Use `zero_division` parameter to control this behavior.\n",
            "  _warn_prf(average, modifier, msg_start, len(result))\n",
            "/usr/local/lib/python3.10/dist-packages/sklearn/metrics/_classification.py:1344: UndefinedMetricWarning: Precision and F-score are ill-defined and being set to 0.0 in labels with no predicted samples. Use `zero_division` parameter to control this behavior.\n",
            "  _warn_prf(average, modifier, msg_start, len(result))\n",
            "/usr/local/lib/python3.10/dist-packages/sklearn/metrics/_classification.py:1344: UndefinedMetricWarning: Precision and F-score are ill-defined and being set to 0.0 in labels with no predicted samples. Use `zero_division` parameter to control this behavior.\n",
            "  _warn_prf(average, modifier, msg_start, len(result))\n"
          ]
        },
        {
          "output_type": "execute_result",
          "data": {
            "text/plain": [
              "<Axes: >"
            ]
          },
          "metadata": {},
          "execution_count": 27
        },
        {
          "output_type": "display_data",
          "data": {
            "text/plain": [
              "<Figure size 640x480 with 2 Axes>"
            ],
            "image/png": "[encoded data removed]"
          },
          "metadata": {}
        }
      ]
    },
    {
      "cell_type": "code",
      "source": [
        "metrics={'accuracy':[accuracy_NB,accuracy_DT,accuracy_BILSTM,accuracy_BERT]}\n",
        "results=pd.DataFrame(metrics,index=['NAIVE BAYES','DECISION TREE','BILSTM','BERT'])\n",
        "results\n"
      ],
      "metadata": {
        "colab": {
          "base_uri": "https://localhost:8080/",
          "height": 175
        },
        "id": "etUVAuu4kK4y",
        "outputId": "3f8fb38b-3bab-462c-d770-2f36862289d2"
      },
      "id": "etUVAuu4kK4y",
      "execution_count": 28,
      "outputs": [
        {
          "output_type": "execute_result",
          "data": {
            "text/plain": [
              "               accuracy\n",
              "NAIVE BAYES    0.761322\n",
              "DECISION TREE  0.878825\n",
              "BILSTM         0.779682\n",
              "BERT           0.685435"
            ],
            "text/html": [
              "\n",
              "  <div id=\"df-433c1c66-395a-4fed-8397-d7e90205c7d0\">\n",
              "    <div class=\"colab-df-container\">\n",
              "      <div>\n",
              "<style scoped>\n",
              "    .dataframe tbody tr th:only-of-type {\n",
              "        vertical-align: middle;\n",
              "    }\n",
              "\n",
              "    .dataframe tbody tr th {\n",
              "        vertical-align: top;\n",
              "    }\n",
              "\n",
              "    .dataframe thead th {\n",
              "        text-align: right;\n",
              "    }\n",
              "</style>\n",
              "<table border=\"1\" class=\"dataframe\">\n",
              "  <thead>\n",
              "    <tr style=\"text-align: right;\">\n",
              "      <th></th>\n",
              "      <th>accuracy</th>\n",
              "    </tr>\n",
              "  </thead>\n",
              "  <tbody>\n",
              "    <tr>\n",
              "      <th>NAIVE BAYES</th>\n",
              "      <td>0.761322</td>\n",
              "    </tr>\n",
              "    <tr>\n",
              "      <th>DECISION TREE</th>\n",
              "      <td>0.878825</td>\n",
              "    </tr>\n",
              "    <tr>\n",
              "      <th>BILSTM</th>\n",
              "      <td>0.779682</td>\n",
              "    </tr>\n",
              "    <tr>\n",
              "      <th>BERT</th>\n",
              "      <td>0.685435</td>\n",
              "    </tr>\n",
              "  </tbody>\n",
              "</table>\n",
              "</div>\n",
              "      <button class=\"colab-df-convert\" onclick=\"convertToInteractive('df-433c1c66-395a-4fed-8397-d7e90205c7d0')\"\n",
              "              title=\"Convert this dataframe to an interactive table.\"\n",
              "              style=\"display:none;\">\n",
              "        \n",
              "  <svg xmlns=\"http://www.w3.org/2000/svg\" height=\"24px\"viewBox=\"0 0 24 24\"\n",
              "       width=\"24px\">\n",
              "    <path d=\"M0 0h24v24H0V0z\" fill=\"none\"/>\n",
              "    <path d=\"M18.56 5.44l.94 2.06.94-2.06 2.06-.94-2.06-.94-.94-2.06-.94 2.06-2.06.94zm-11 1L8.5 8.5l.94-2.06 2.06-.94-2.06-.94L8.5 2.5l-.94 2.06-2.06.94zm10 10l.94 2.06.94-2.06 2.06-.94-2.06-.94-.94-2.06-.94 2.06-2.06.94z\"/><path d=\"M17.41 7.96l-1.37-1.37c-.4-.4-.92-.59-1.43-.59-.52 0-1.04.2-1.43.59L10.3 9.45l-7.72 7.72c-.78.78-.78 2.05 0 2.83L4 21.41c.39.39.9.59 1.41.59.51 0 1.02-.2 1.41-.59l7.78-7.78 2.81-2.81c.8-.78.8-2.07 0-2.86zM5.41 20L4 18.59l7.72-7.72 1.47 1.35L5.41 20z\"/>\n",
              "  </svg>\n",
              "      </button>\n",
              "      \n",
              "  <style>\n",
              "    .colab-df-container {\n",
              "      display:flex;\n",
              "      flex-wrap:wrap;\n",
              "      gap: 12px;\n",
              "    }\n",
              "\n",
              "    .colab-df-convert {\n",
              "      background-color: #E8F0FE;\n",
              "      border: none;\n",
              "      border-radius: 50%;\n",
              "      cursor: pointer;\n",
              "      display: none;\n",
              "      fill: #1967D2;\n",
              "      height: 32px;\n",
              "      padding: 0 0 0 0;\n",
              "      width: 32px;\n",
              "    }\n",
              "\n",
              "    .colab-df-convert:hover {\n",
              "      background-color: #E2EBFA;\n",
              "      box-shadow: 0px 1px 2px rgba(60, 64, 67, 0.3), 0px 1px 3px 1px rgba(60, 64, 67, 0.15);\n",
              "      fill: #174EA6;\n",
              "    }\n",
              "\n",
              "    [theme=dark] .colab-df-convert {\n",
              "      background-color: #3B4455;\n",
              "      fill: #D2E3FC;\n",
              "    }\n",
              "\n",
              "    [theme=dark] .colab-df-convert:hover {\n",
              "      background-color: #434B5C;\n",
              "      box-shadow: 0px 1px 3px 1px rgba(0, 0, 0, 0.15);\n",
              "      filter: drop-shadow(0px 1px 2px rgba(0, 0, 0, 0.3));\n",
              "      fill: #FFFFFF;\n",
              "    }\n",
              "  </style>\n",
              "\n",
              "      <script>\n",
              "        const buttonEl =\n",
              "          document.querySelector('#df-433c1c66-395a-4fed-8397-d7e90205c7d0 button.colab-df-convert');\n",
              "        buttonEl.style.display =\n",
              "          google.colab.kernel.accessAllowed ? 'block' : 'none';\n",
              "\n",
              "        async function convertToInteractive(key) {\n",
              "          const element = document.querySelector('#df-433c1c66-395a-4fed-8397-d7e90205c7d0');\n",
              "          const dataTable =\n",
              "            await google.colab.kernel.invokeFunction('convertToInteractive',\n",
              "                                                     [key], {});\n",
              "          if (!dataTable) return;\n",
              "\n",
              "          const docLinkHtml = 'Like what you see? Visit the ' +\n",
              "            '<a target=\"_blank\" href=https://colab.research.google.com/notebooks/data_table.ipynb>data table notebook</a>'\n",
              "            + ' to learn more about interactive tables.';\n",
              "          element.innerHTML = '';\n",
              "          dataTable['output_type'] = 'display_data';\n",
              "          await google.colab.output.renderOutput(dataTable, element);\n",
              "          const docLink = document.createElement('div');\n",
              "          docLink.innerHTML = docLinkHtml;\n",
              "          element.appendChild(docLink);\n",
              "        }\n",
              "      </script>\n",
              "    </div>\n",
              "  </div>\n",
              "  "
            ]
          },
          "metadata": {},
          "execution_count": 28
        }
      ]
    },
    {
      "cell_type": "code",
      "source": [
        "results.plot.bar()"
      ],
      "metadata": {
        "colab": {
          "base_uri": "https://localhost:8080/",
          "height": 541
        },
        "id": "xx4bBeSB1QTF",
        "outputId": "a94a0659-898e-454a-8666-c1a2b976635e"
      },
      "id": "xx4bBeSB1QTF",
      "execution_count": 29,
      "outputs": [
        {
          "output_type": "execute_result",
          "data": {
            "text/plain": [
              "<Axes: >"
            ]
          },
          "metadata": {},
          "execution_count": 29
        },
        {
          "output_type": "display_data",
          "data": {
            "text/plain": [
              "<Figure size 640x480 with 1 Axes>"
            ],
            "image/png": "[encoded data removed]"
          },
          "metadata": {}
        }
      ]
    }
  ],
  "metadata": {
    "kernelspec": {
      "display_name": "Python 3",
      "name": "python3"
    },
    "language_info": {
      "codemirror_mode": {
        "name": "ipython",
        "version": 3
      },
      "file_extension": ".py",
      "mimetype": "text/x-python",
      "name": "python",
      "nbconvert_exporter": "python",
      "pygments_lexer": "ipython3",
      "version": "3.9.13"
    },
    "colab": {
      "provenance": [],
      "gpuType": "T4"
    },
    "accelerator": "GPU"
  },
  "nbformat": 4,
  "nbformat_minor": 5
}